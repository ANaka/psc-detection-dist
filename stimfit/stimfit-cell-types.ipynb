{
 "metadata": {
  "name": ""
 },
 "nbformat": 3,
 "nbformat_minor": 0,
 "worksheets": [
  {
   "cells": [
    {
     "cell_type": "code",
     "collapsed": false,
     "input": [
      "\n",
      "\n",
      "%matplotlib inline\n",
      "\n",
      "import numpy as np\n",
      "import scipy.io as scio\n",
      "\n",
      "import matplotlib\n",
      "import matplotlib.pyplot as plt\n",
      "\n",
      "import stfio"
     ],
     "language": "python",
     "metadata": {},
     "outputs": [],
     "prompt_number": 1
    },
    {
     "cell_type": "code",
     "collapsed": false,
     "input": [
      "datafile = '/media/shababo/Layover/projects/mapping/code/psc-detection/stimfit/stimfit-data/stimfit-sample-data.npz'\n",
      "\n",
      "data = np.load(datafile)\n",
      "dt = .1"
     ],
     "language": "python",
     "metadata": {},
     "outputs": [],
     "prompt_number": 2
    },
    {
     "cell_type": "code",
     "collapsed": false,
     "input": [
      "deconv = stfio.detect_events(data['stimfit_sample'],data['stimfit_template'],.1,mode=\"deconvolution\")"
     ],
     "language": "python",
     "metadata": {},
     "outputs": [],
     "prompt_number": 3
    },
    {
     "cell_type": "code",
     "collapsed": false,
     "input": [
      "fig = plt.figure(figsize=(14,8), dpi=72)\n",
      "plt.plot(deconv)"
     ],
     "language": "python",
     "metadata": {},
     "outputs": [
      {
       "metadata": {},
       "output_type": "pyout",
       "prompt_number": 4,
       "text": [
        "[<matplotlib.lines.Line2D at 0x7fb3e51929d0>]"
       ]
      },
      {
       "metadata": {},
       "output_type": "display_data",
       "png": "[encoded data removed]",
       "text": [
        "<matplotlib.figure.Figure at 0x7fb3e5259750>"
       ]
      }
     ],
     "prompt_number": 4
    },
    {
     "cell_type": "code",
     "collapsed": false,
     "input": [
      "event_times = stfio.peak_detection(deconv,4,10)"
     ],
     "language": "python",
     "metadata": {},
     "outputs": [],
     "prompt_number": 5
    },
    {
     "cell_type": "code",
     "collapsed": false,
     "input": [
      "%matplotlib qt\n",
      "\n",
      "fig = plt.figure(figsize=(14,8), dpi=72)\n",
      "plt.plot(deconv)\n",
      "plt.scatter(event_times,-10*np.ones(event_times.shape))\n",
      "plt.plot(data['stimfit_sample']-75)"
     ],
     "language": "python",
     "metadata": {},
     "outputs": [
      {
       "metadata": {},
       "output_type": "pyout",
       "prompt_number": 14,
       "text": [
        "[<matplotlib.lines.Line2D at 0x7fb3b6d0d790>]"
       ]
      }
     ],
     "prompt_number": 14
    },
    {
     "cell_type": "code",
     "collapsed": false,
     "input": [
      "import scipy.io as scio"
     ],
     "language": "python",
     "metadata": {},
     "outputs": [],
     "prompt_number": 8
    },
    {
     "cell_type": "code",
     "collapsed": false,
     "input": [
      "ls"
     ],
     "language": "python",
     "metadata": {},
     "outputs": [
      {
       "output_type": "stream",
       "stream": "stdout",
       "text": [
        "all-meths-nothresh                  stimfit-evoked.ipynb\r\n",
        "stimfit-cell-types.ipynb            stimfit_ext.py\r\n",
        "\u001b[0m\u001b[01;34mstimfit-data\u001b[0m/                       stimfit-in-vivo.ipynb\r\n",
        "stimfit-doublets-bu.ipynb           stimfit-plot-results.ipynb\r\n",
        "stimfit-doublets.ipynb              stimfit-roc-harder.ipynb\r\n",
        "stimfit-evoked-ipsc-fs-to-pc.ipynb  stimfit-roc.ipynb\r\n"
       ]
      }
     ],
     "prompt_number": 9
    },
    {
     "cell_type": "code",
     "collapsed": false,
     "input": [
      "sim_data_file = '/media/shababo/Layover/projects/mapping/code/psc-detection/data/l23_traces.mat'\n",
      "mat_data = scio.loadmat(sim_data_file)\n",
      "\n",
      "%matplotlib qt\n",
      "\n",
      "fig = plt.figure(figsize=(14,8), dpi=72)\n",
      "plt.plot(mat_data['traces'][0,])"
     ],
     "language": "python",
     "metadata": {},
     "outputs": [
      {
       "metadata": {},
       "output_type": "pyout",
       "prompt_number": 11,
       "text": [
        "[<matplotlib.lines.Line2D at 0x7fb3b7b12f90>]"
       ]
      }
     ],
     "prompt_number": 11
    },
    {
     "cell_type": "code",
     "collapsed": false,
     "input": [],
     "language": "python",
     "metadata": {},
     "outputs": [
      {
       "output_type": "stream",
       "stream": "stdout",
       "text": [
        "(10,)\n",
        "(1, 18)\n",
        "(18,)\n",
        "(1, 2)\n"
       ]
      }
     ],
     "prompt_number": 54
    },
    {
     "cell_type": "code",
     "collapsed": false,
     "input": [
      "epsc_template_file = '/media/shababo/Layover/projects/mapping/code/psc-detection/data/simulated-epscs-1027-template.mat'\n",
      "epsc_mat = scio.loadmat(epsc_template_file)\n",
      "template = epsc_mat['template'].reshape((600,))\n",
      "\n",
      "# template = np.load('/media/shababo/Layover/projects/mapping/code/psc-detection/stimfit/stimfit-data/test-traces-template.npy')\n",
      "fig = plt.figure(figsize=(14,8), dpi=72)\n",
      "plt.plot(template)"
     ],
     "language": "python",
     "metadata": {},
     "outputs": [
      {
       "metadata": {},
       "output_type": "pyout",
       "prompt_number": 12,
       "text": [
        "[<matplotlib.lines.Line2D at 0x7fa0c7034e10>]"
       ]
      },
      {
       "metadata": {},
       "output_type": "display_data",
       "png": "[encoded data removed]",
       "text": [
        "<matplotlib.figure.Figure at 0x7fa0c70a0f10>"
       ]
      }
     ],
     "prompt_number": 12
    },
    {
     "cell_type": "code",
     "collapsed": false,
     "input": [
      "trace_ind = 2\n",
      "deconv = stfio.detect_events(mat_data['traces'][trace_ind,],template,.05,mode=\"deconvolution\",lowpass=.3)\n",
      "crit = stfio.detect_events(mat_data['traces'][trace_ind,],template,.05,mode=\"criterion\")\n",
      "%matplotlib inline\n",
      "\n",
      "fig = plt.figure(figsize=(14,8), dpi=72)\n",
      "plt.plot(deconv)\n",
      "plt.plot(crit)"
     ],
     "language": "python",
     "metadata": {},
     "outputs": [
      {
       "metadata": {},
       "output_type": "pyout",
       "prompt_number": 13,
       "text": [
        "[<matplotlib.lines.Line2D at 0x7fa0c7176410>]"
       ]
      },
      {
       "metadata": {},
       "output_type": "display_data",
       "png": "[encoded data removed]",
       "text": [
        "<matplotlib.figure.Figure at 0x7fa0c714ebd0>"
       ]
      }
     ],
     "prompt_number": 13
    },
    {
     "cell_type": "code",
     "collapsed": false,
     "input": [
      "\n",
      "\n",
      "posterior_ar2_file = '/media/shababo/Layover/projects/mapping/code/psc-detection/data/l23_traces-0000-posterior.mat'\n",
      "posterior_ar2 = scio.loadmat(posterior_ar2_file)\n",
      "posterior_ar2 = posterior_ar2['posterior']\n",
      "posterior_ar2.shape"
     ],
     "language": "python",
     "metadata": {},
     "outputs": [
      {
       "metadata": {},
       "output_type": "pyout",
       "prompt_number": 14,
       "text": [
        "(4, 6001)"
       ]
      }
     ],
     "prompt_number": 14
    },
    {
     "cell_type": "code",
     "collapsed": false,
     "input": [
      "from numpy.fft import fft, ifft, ifftshift\n",
      "from nitime.algorithms.autoregressive import *\n",
      "import nitime.algorithms as tsa\n",
      "\n",
      "from scipy import signal as sgnl\n",
      "\n",
      "# import pymutt\n",
      "\n",
      "nfft = mat_data['traces'].shape[-1] + template.shape[-1]\n",
      "\n",
      "phi = np.array([1.000000000000000, 0.982949319747574, -0.407063852831604])\n",
      "sigmasq = 2.948727926352792\n",
      "\n",
      "noise_PSD_data = AR_psd(phi[1:], sigmasq, n_freqs=nfft, sides='twosided')\n",
      "# noise_PSD = np.concatenate((noise_PSD_data[1],noise_PSD_data[1][-1:0:-1]))\n",
      "noise_PSD = noise_PSD_data[1]/10000.\n",
      "\n",
      "H = fft(template,n=nfft)/nfft\n",
      "\n",
      "np.var(mat_data['traces'][1,])\n",
      "print np.sum(abs(mat_data['traces'][1,])**2)/nfft\n",
      "noise_PSD_white = np.sum(abs(mat_data['traces'][1,])**2)/nfft/nfft\n",
      "print noise_PSD_white*nfft\n",
      "print np.sum(noise_PSD)\n",
      "mat_data['traces'].shape\n",
      "\n",
      "print np.sum(abs(template)**2)/nfft\n",
      "print np.sum(abs(H)**2)\n",
      "\n",
      "print (nfft)"
     ],
     "language": "python",
     "metadata": {},
     "outputs": [
      {
       "output_type": "stream",
       "stream": "stdout",
       "text": [
        "32.6699576615\n",
        "32.6699576615\n",
        "4.55687237709\n",
        "0.00539367341379\n",
        "0.00539367341379\n",
        "6601\n"
       ]
      }
     ],
     "prompt_number": 19
    },
    {
     "cell_type": "code",
     "collapsed": false,
     "input": [
      "%matplotlib qt\n",
      "s = 100\n",
      "deconv_bounds = [2.25, 2.25, 2.25]\n",
      "fig = plt.figure(figsize=(14,8), dpi=72)\n",
      "\n",
      "all_wieners = np.zeros((10,mat_data['traces'].shape[-1]))\n",
      "\n",
      "std_mult = 1.5\n",
      "\n",
      "for (ind,i) in enumerate([0,1,2,3]):\n",
      "    print i\n",
      "    offset = (ind-1)*0\n",
      "    deconv = stfio.detect_events(mat_data['traces'][i,],template,.05,mode=\"deconvolution\",lowpass=.2)\n",
      "    crit = stfio.detect_events(np.concatenate((mat_data['traces'][i,],np.zeros(template.shape))),template,.05,mode=\"criterion\")\n",
      "    event_times_deconv = stfio.peak_detection(deconv,std_mult*np.std(deconv),1)\n",
      "    event_times_crit = stfio.peak_detection(crit,.5*np.std(crit),1)\n",
      "    \n",
      "    signal = mat_data['traces'][i,]\n",
      "    S = fft(signal,n=nfft)\n",
      "    \n",
      "#     Sss = pymutt.mtft(signal,\n",
      "#                 dt = 1./20000.,\n",
      "#                 npi = 3.0,\n",
      "#                 nwin = 5,\n",
      "#                 paddedlen = nfft,\n",
      "#                 )\n",
      "#     Sss = np.concatenate((Sss['power'],Sss['power'][-1:0:-1]))\n",
      "    \n",
      "    f_tsa_mt,Sss_tsa_mt,nu = tsa.multi_taper_psd(signal,Fs=20000.,NFFT=nfft,adaptive=True)\n",
      "    \n",
      "    \n",
      "    Sss_tsa_mt = np.concatenate((Sss_tsa_mt,Sss_tsa_mt[-1:0:-1]))\n",
      "    \n",
      "    \n",
      "    if i == 1:\n",
      "        print np.argwhere(Sss_tsa_mt < noise_PSD_white)\n",
      "        print Sss_tsa_mt[np.argwhere(Sss_tsa_mt < noise_PSD_white)].shape\n",
      "        Sss_tsa_mt[np.argwhere(Sss_tsa_mt < noise_PSD_white)] = noise_PSD_white\n",
      "        print np.argwhere(Sss_tsa_mt < noise_PSD_white)\n",
      "        ss_nn_diff = Sss_tsa_mt - noise_PSD_white\n",
      "    else:\n",
      "        neg_inds = np.argwhere(np.less_equal(Sss_tsa_mt,noise_PSD)).squeeze()\n",
      "        print neg_inds.shape\n",
      "        Sss_tsa_mt[neg_inds] = noise_PSD[neg_inds]\n",
      "        ss_nn_diff = Sss_tsa_mt - noise_PSD\n",
      "\n",
      "        ss_nn_diff[neg_inds[0]:neg_inds[-1]] = 0.0\n",
      "        \n",
      "    all_wieners[i,] = np.real(ifft(np.divide(np.divide(S*(ss_nn_diff),Sss_tsa_mt),H)))[:mat_data['traces'][i,].size]\n",
      "    event_times_wien = stfio.peak_detection(all_wieners[i,],1.35*np.std(all_wieners[i,]),1)\n",
      "    #wiener_times = stfio.peak_detection(all_wieners[i,],0.0000000005,1)\n",
      "    \n",
      "#     cb_center = 9.0;\n",
      "#     wiener_center = 17.0;\n",
      "#     bayes_center = -4.0;\n",
      "#     deconv_center = 25.0;\n",
      "    \n",
      "    \n",
      "#     cb = plt.fill_between(np.arange(0,crit.size),5*crit/np.amax(crit)-offset + cb_center,-offset + cb_center, facecolor = 'green',label='CB',edgecolor='green')\n",
      "#     wien = plt.fill_between(np.arange(0,all_wieners[i,].size),5*all_wieners[i,]/np.amax(all_wieners[i,])-offset + wiener_center,wiener_center - offset, facecolor = 'red',edgecolor='red',label='Wiener Deconv')\n",
      "#     dec = plt.fill_between(np.arange(0,deconv.size),5*deconv/np.amax(deconv)-offset + deconv_center,deconv_center - offset, facecolor = 'm',edgecolor='m',label='Lowpass Deconv .2 kHz')\n",
      "#     bayes = plt.fill_between(np.arange(0,posterior_ar2[i,].size),10*posterior_ar2[i,]/np.amax(posterior_ar2[i,])-offset + bayes_center,bayes_center - offset, facecolor = 'blue',edgecolor='blue',label='Bayes Posterior')\n",
      "#     obs = plt.plot(mat_data['traces'][i,]-20-offset,c='black',label='Observation')\n",
      "#     true = plt.scatter(mat_data['true_event_times'][0][i][0],-10*np.ones(mat_data['true_event_times'][0][i][0].shape)-offset,c = 'black',s=s,edgecolor='',label = 'True Times')\n",
      "\n",
      "    cb_center = 25.0;\n",
      "    wiener_center = 9.0;\n",
      "    bayes_center = 0.0;\n",
      "    deconv_center = 17.0;\n",
      "\n",
      "#     clean_post = posterior_ar2[i,]\n",
      "#     clean_post[clean_post < .0001] = 0.0\n",
      "#     clean_post[clean_post > 0.0] = s\n",
      "    clean_post = stfio.peak_detection(posterior_ar2[i,],1.0*np.std(posterior_ar2[i,]),1)\n",
      "    cb = plt.scatter(event_times_crit,cb_center*np.ones(event_times_crit.shape)-offset,c = 'green',s=s,edgecolor='',label='CB')\n",
      "    dec = plt.scatter(event_times_deconv,deconv_center*np.ones(event_times_deconv.shape)-offset,c = 'magenta',s=s,edgecolor='',label='Deconv')\n",
      "    ours = plt.scatter(clean_post,bayes_center*np.ones(clean_post.shape)-offset,c = 'blue',s=s,edgecolor='',label='Bayesian')\n",
      "#     ours = plt.scatter(range(0,clean_post.shape[-1]),bayes_center*np.ones(clean_post.shape)-offset,c = 'blue',edgecolor='',label='Bayesian Posterior',s=clean_post)\n",
      "#     true = plt.scatter(mat_data['true_event_times'][0][i][0],-10*np.ones(mat_data['true_event_times'][0][i][0].shape)-offset,c = 'black',s=s,edgecolor='',label = 'True Times')\n",
      "    obs = plt.plot(mat_data['traces'][i,]-20-offset,c='black',label='Observation')\n",
      "    wien =  plt.scatter(event_times_wien,wiener_center*np.ones(event_times_wien.shape)-offset,c = 'red',s=s,edgecolor='',label='Deconv')\n",
      "    \n",
      "#plt.xlim((1,2400))\n",
      "           \n",
      "           \n",
      "           \n",
      "           \n",
      "           \n",
      "\n",
      "# plt.legend()\n",
      "# plt.legend((cb, wien, dec, bayes, true, obs),('CB','Wiener','Lowpass Deconv (.2kHz)','Bayesian Posterior','True Times','Obs'),loc='best',bbox_to_anchor=(1.12, 1.13),scatterpoints=1)\n",
      "# plt.axis('off')\n",
      "# plt.savefig('all-meths-nothresh',format='eps')"
     ],
     "language": "python",
     "metadata": {},
     "outputs": [
      {
       "output_type": "stream",
       "stream": "stdout",
       "text": [
        "0\n",
        "(5524,)"
       ]
      },
      {
       "output_type": "stream",
       "stream": "stdout",
       "text": [
        "\n",
        "1\n",
        "[[  73]\n",
        " [  78]\n",
        " [  79]\n",
        " ..., \n",
        " [6522]\n",
        " [6523]\n",
        " [6528]]"
       ]
      },
      {
       "output_type": "stream",
       "stream": "stdout",
       "text": [
        "\n",
        "(6358, 1)\n",
        "[]\n",
        "2\n",
        "(4658,)"
       ]
      },
      {
       "output_type": "stream",
       "stream": "stdout",
       "text": [
        "\n",
        "3\n",
        "(4838,)"
       ]
      },
      {
       "output_type": "stream",
       "stream": "stdout",
       "text": [
        "\n"
       ]
      }
     ],
     "prompt_number": 21
    },
    {
     "cell_type": "code",
     "collapsed": false,
     "input": [
      "mat_data['true_event_times'][0][8][0]"
     ],
     "language": "python",
     "metadata": {},
     "outputs": [
      {
       "metadata": {},
       "output_type": "pyout",
       "prompt_number": 109,
       "text": [
        "array([   311.,    544.,   1184.,   1549.,   1940.,   3760.,   4511.,\n",
        "         5035.,   5885.,   6189.,   6894.,   7218.,   7321.,   7956.,\n",
        "         8253.,  10006.,  10921.,  11501.,  13348.,  13510.,  15281.,\n",
        "        16545.,  16870.,  18265.,  18317.,  19430.])"
       ]
      }
     ],
     "prompt_number": 109
    },
    {
     "cell_type": "code",
     "collapsed": false,
     "input": [
      "%matplotlib qt\n",
      "\n",
      "plt.figure()\n",
      "#plt.semilogy(freq,abs(H)**2,label='template')\n",
      "#plt.semilogy(freq, Snn,label='emperical noise psd')\n",
      "plt.semilogy(freqH, Sss, label='signal psd')\n",
      "\n",
      "# plt.semilogy(freq, SNR,label='snr')\n",
      "plt.semilogy(freqH, Stf, label='true signal')\n",
      "# plt.semilogy(freqH, Snn,label='noise')\n",
      "# plt.semilogy(freqH, Snn_mt,label='noise mt')\n",
      "plt.semilogy(freqH, noise_PSD,label='ar noise')\n",
      "\n",
      "plt.semilogy(freqH, Sss - noise_PSD,label='convolved signal')\n",
      "\n",
      "plt.semilogy(freqH, abs(H)**2 * Stf, label = 'convolved signal 2')\n",
      "\n",
      "Sh\n",
      "\n",
      "plt.semilogy(freqH, abs(H)**2, label = 'template')\n",
      "#ss_nn_diff = Sss-Snn\n",
      "#zero_idx = np.argwhere(ss_nn_diff <= 0.0)\n",
      "#ss_nn_diff[zero_idx[0]:] = 0.0\n",
      "#plt.semilogy(freqH, np.divide(ss_nn_diff,abs(H)**2), label='true signal est')\n",
      "#plt.semilogy(freqH, ss_nn_diff,label='diff')\n",
      "#plt.semilogy(freq, Sss,label='obs')\n",
      "\n",
      "#plt.semilogy(freq, Snf*np.conj(Snf),label='fft of noise used')\n",
      "#plt.semilogy(freq, np.abs(Snf)**2,label='fft 2')\n",
      "#plt.plot(freq, noise_PSD,label='analytic noise psd')\n",
      "#plt.plot(freq, Snn + H*np.conj(H))\n",
      "\n",
      "#np.mean(SNR)\n",
      "\n",
      "plt.legend()"
     ],
     "language": "python",
     "metadata": {},
     "outputs": [
      {
       "ename": "NameError",
       "evalue": "name 'freqH' is not defined",
       "output_type": "pyerr",
       "traceback": [
        "\u001b[0;31m---------------------------------------------------------------------------\u001b[0m\n\u001b[0;31mNameError\u001b[0m                                 Traceback (most recent call last)",
        "\u001b[0;32m<ipython-input-17-109c434b55f3>\u001b[0m in \u001b[0;36m<module>\u001b[0;34m()\u001b[0m\n\u001b[1;32m      4\u001b[0m \u001b[0;31m#plt.semilogy(freq,abs(H)**2,label='template')\u001b[0m\u001b[0;34m\u001b[0m\u001b[0;34m\u001b[0m\u001b[0m\n\u001b[1;32m      5\u001b[0m \u001b[0;31m#plt.semilogy(freq, Snn,label='emperical noise psd')\u001b[0m\u001b[0;34m\u001b[0m\u001b[0;34m\u001b[0m\u001b[0m\n\u001b[0;32m----> 6\u001b[0;31m \u001b[0mplt\u001b[0m\u001b[0;34m.\u001b[0m\u001b[0msemilogy\u001b[0m\u001b[0;34m(\u001b[0m\u001b[0mfreqH\u001b[0m\u001b[0;34m,\u001b[0m \u001b[0mSss\u001b[0m\u001b[0;34m,\u001b[0m \u001b[0mlabel\u001b[0m\u001b[0;34m=\u001b[0m\u001b[0;34m'signal psd'\u001b[0m\u001b[0;34m)\u001b[0m\u001b[0;34m\u001b[0m\u001b[0m\n\u001b[0m\u001b[1;32m      7\u001b[0m \u001b[0;34m\u001b[0m\u001b[0m\n\u001b[1;32m      8\u001b[0m \u001b[0;31m# plt.semilogy(freq, SNR,label='snr')\u001b[0m\u001b[0;34m\u001b[0m\u001b[0;34m\u001b[0m\u001b[0m\n",
        "\u001b[0;31mNameError\u001b[0m: name 'freqH' is not defined"
       ]
      }
     ],
     "prompt_number": 17
    },
    {
     "cell_type": "code",
     "collapsed": false,
     "input": [
      "# min_spacing = np.array([1, 10, 50, 100])\n",
      "min_spacing = np.array([20])\n",
      "threshold = np.array([0.01, .1, .5, 1., 1.5, 2.0, 2.5, 3, 3.5, 4.0, 4.5, 5.0, 10.0, 50.0])\n",
      "print threshold\n",
      "print mat_data['traces'].shape"
     ],
     "language": "python",
     "metadata": {},
     "outputs": [
      {
       "output_type": "stream",
       "stream": "stdout",
       "text": [
        "[  1.00000000e-02   1.00000000e-01   5.00000000e-01   1.00000000e+00\n",
        "   1.50000000e+00   2.00000000e+00   2.50000000e+00   3.00000000e+00\n",
        "   3.50000000e+00   4.00000000e+00   4.50000000e+00   5.00000000e+00\n",
        "   1.00000000e+01   5.00000000e+01]\n",
        "(10, 20000)\n"
       ]
      }
     ],
     "prompt_number": 21
    },
    {
     "cell_type": "code",
     "collapsed": false,
     "input": [
      "\n",
      "event_times = np.empty((threshold.size,min_spacing.size),dtype='object')\n",
      "\n",
      "traces = mat_data['traces']\n",
      "deconv = np.zeros(traces.shape)\n",
      "for (i,trace) in enumerate(traces):\n",
      "    \n",
      "    deconv[i,] = stfio.detect_events(trace,template,.05,mode=\"deconvolution\")\n",
      "\n",
      "for (j, thresh) in enumerate(threshold):\n",
      "    for (k, min_space) in enumerate(min_spacing):\n",
      "        event_times[j,k] = np.empty((traces.shape[0]),dtype='object')\n",
      "        for (i, trace) in enumerate(traces):\n",
      "            event_times[j,k][i] = stfio.peak_detection(deconv[i,], thresh*np.std(deconv[i,]), min_space)"
     ],
     "language": "python",
     "metadata": {},
     "outputs": [],
     "prompt_number": 90
    },
    {
     "cell_type": "code",
     "collapsed": false,
     "input": [
      "savefile = '/media/shababo/Layover/projects/mapping/code/psc-detection/data/deconv-detection-results-harder.mat'\n",
      "scio.savemat(savefile, dict(event_times=event_times, threshold=threshold,min_spacing=min_spacing))"
     ],
     "language": "python",
     "metadata": {},
     "outputs": [],
     "prompt_number": 91
    },
    {
     "cell_type": "code",
     "collapsed": false,
     "input": [
      "# min_spacing = np.array([1, 10, 50, 100])\n",
      "# threshold = np.array([0, .5, 1., 1.5, 2.0, 2.5, 3, 3.5])\n",
      "\n",
      "event_times = np.empty((threshold.size,min_spacing.size),dtype='object')\n",
      "\n",
      "traces = mat_data['traces']\n",
      "deconv = np.zeros((traces.shape))\n",
      "for (i,trace) in enumerate(traces):\n",
      "    deconv[i,] = stfio.detect_events(np.concatenate((trace,np.zeros(template.shape))),template,.05,mode=\"criterion\")\n",
      "\n",
      "for (j, thresh) in enumerate(threshold):\n",
      "    for (k, min_space) in enumerate(min_spacing):\n",
      "        event_times[j,k] = np.empty((traces.shape[0]),dtype='object')\n",
      "        for (i, trace) in enumerate(traces):\n",
      "            event_times[j,k][i] = stfio.peak_detection(deconv[i,], thresh*np.std(deconv[i,]), min_space)"
     ],
     "language": "python",
     "metadata": {},
     "outputs": [],
     "prompt_number": 25
    },
    {
     "cell_type": "code",
     "collapsed": false,
     "input": [
      "\n",
      "savefile = '/media/shababo/Layover/projects/mapping/code/psc-detection/data/criterion-detection-results-harder.mat'\n",
      "scio.savemat(savefile, dict(event_times=event_times, threshold=threshold,min_spacing=min_spacing))"
     ],
     "language": "python",
     "metadata": {},
     "outputs": [],
     "prompt_number": 26
    },
    {
     "cell_type": "code",
     "collapsed": false,
     "input": [
      "# min_spacing = np.array([1, 10, 50, 100])\n",
      "# threshold = np.array([0, .5, 1., 1.5, 2.0, 2.5, 3, 3.5])\n",
      "\n",
      "event_times = np.empty((threshold.size,min_spacing.size),dtype='object')\n",
      "\n",
      "traces = mat_data['traces']\n",
      "deconv = np.zeros((traces.shape))\n",
      "for (i,trace) in enumerate(traces):\n",
      "    \n",
      "    S = fft(trace,n=nfft)\n",
      "    \n",
      "#     Sss = pymutt.mtft(signal,\n",
      "#                 dt = 1./20000.,\n",
      "#                 npi = 3.0,\n",
      "#                 nwin = 5,\n",
      "#                 paddedlen = nfft,\n",
      "#                 )\n",
      "#     Sss = np.concatenate((Sss['power'],Sss['power'][-1:0:-1]))\n",
      "    \n",
      "    f_tsa_mt,Sss_tsa_mt,nu = tsa.multi_taper_psd(trace,Fs=20000.,NFFT=nfft,adaptive=True)\n",
      "    \n",
      "    \n",
      "    Sss_tsa_mt = np.concatenate((Sss_tsa_mt,Sss_tsa_mt[-1:0:-1]))\n",
      "    \n",
      "    \n",
      "\n",
      "    neg_inds = np.argwhere(np.less_equal(Sss_tsa_mt,noise_PSD)).squeeze()\n",
      "    Sss_tsa_mt[neg_inds[0]:] = noise_PSD[neg_inds[0]:]\n",
      "    ss_nn_diff = Sss_tsa_mt - noise_PSD\n",
      "\n",
      "    ss_nn_diff[neg_inds[0]:neg_inds[-1]] = 0.0\n",
      "        \n",
      "    deconv[i,] = np.real(ifft(np.divide(np.divide(S*(ss_nn_diff),Sss_tsa_mt),H)))[:mat_data['traces'][i,].size]\n",
      "\n",
      "for (j, thresh) in enumerate(threshold):\n",
      "    for (k, min_space) in enumerate(min_spacing):\n",
      "        event_times[j,k] = np.empty((traces.shape[0]),dtype='object')\n",
      "        for (i, trace) in enumerate(traces):\n",
      "            event_times[j,k][i] = stfio.peak_detection(deconv[i,], thresh*np.std(deconv[i,]), min_space)"
     ],
     "language": "python",
     "metadata": {},
     "outputs": [],
     "prompt_number": 102
    },
    {
     "cell_type": "code",
     "collapsed": false,
     "input": [
      "savefile = '/media/shababo/Layover/projects/mapping/code/psc-detection/data/wiener-detection-results-harder.mat'\n",
      "scio.savemat(savefile, dict(event_times=event_times, threshold=threshold,min_spacing=min_spacing))"
     ],
     "language": "python",
     "metadata": {},
     "outputs": [],
     "prompt_number": 103
    },
    {
     "cell_type": "code",
     "collapsed": false,
     "input": [
      "#     clean_post = stfio.peak_detection(posterior_ar2[i,],1.0*np.std(posterior_ar2[i,]),1)\n",
      "\n",
      "\n",
      "for (j, thresh) in enumerate(threshold):\n",
      "    for (k, min_space) in enumerate(min_spacing):\n",
      "        event_times[j,k] = np.empty((traces.shape[0]),dtype='object')\n",
      "        print thresh\n",
      "        print min_space\n",
      "        for (i, trace) in enumerate(traces):\n",
      "\n",
      "            event_times[j,k][i] = stfio.peak_detection(posterior_ar2[i,], thresh*np.std(posterior_ar2[i,]), min_space)\n",
      "            \n",
      "savefile = '/media/shababo/Layover/projects/mapping/code/psc-detection/data/bayes-detection-results-harder.mat'\n",
      "scio.savemat(savefile, dict(event_times=event_times, threshold=threshold,min_spacing=min_spacing))"
     ],
     "language": "python",
     "metadata": {},
     "outputs": [
      {
       "output_type": "stream",
       "stream": "stdout",
       "text": [
        "0.01\n",
        "20\n",
        "0.1\n",
        "20\n",
        "0.5\n",
        "20\n",
        "1.0\n",
        "20\n",
        "1.5\n",
        "20\n",
        "2.0\n",
        "20\n",
        "2.5\n",
        "20\n",
        "3.0\n",
        "20\n",
        "3.5"
       ]
      },
      {
       "output_type": "stream",
       "stream": "stdout",
       "text": [
        "\n",
        "20\n",
        "4.0\n",
        "20\n",
        "4.5\n",
        "20\n",
        "5.0\n",
        "20\n",
        "10.0\n",
        "20\n",
        "50.0\n",
        "20\n"
       ]
      }
     ],
     "prompt_number": 32
    },
    {
     "cell_type": "code",
     "collapsed": false,
     "input": [
      "ind = 8\n",
      "\n",
      "print event_times[5,0][ind]\n",
      "\n",
      "print np.sort(mat_data['true_event_times'][0][ind][0])"
     ],
     "language": "python",
     "metadata": {},
     "outputs": [
      {
       "output_type": "stream",
       "stream": "stdout",
       "text": [
        "[  724  2247  3382  5095  5624  5636  6260  6436  6634  9604 10534 11596\n",
        " 12715 14455 14839 15066 16446]\n",
        "[    69.22926825    724.15835106   2245.36794622   2343.63949109\n",
        "   3382.99456325   4633.16138278   5095.34424467   5625.2873689\n",
        "   6249.04113613   6436.25938062   6634.3885163    9594.76080154\n",
        "   9614.12319099  10520.26410832  11597.31193577  12713.42803191\n",
        "  14460.50660547  14700.25483265  14839.32097197  15059.74030571\n",
        "  16446.05816346]\n"
       ]
      }
     ],
     "prompt_number": 42
    },
    {
     "cell_type": "code",
     "collapsed": false,
     "input": [
      "np.amax(posterior_ar2[i,])"
     ],
     "language": "python",
     "metadata": {},
     "outputs": [
      {
       "metadata": {},
       "output_type": "pyout",
       "prompt_number": 115,
       "text": [
        "0.45805592543275403"
       ]
      }
     ],
     "prompt_number": 115
    },
    {
     "cell_type": "code",
     "collapsed": false,
     "input": [
      "%matplotlib qt\n",
      "s = 100\n",
      "deconv_bounds = [2.25, 2.25, 2.25]\n",
      "fig = plt.figure(figsize=(24,8), dpi=72)\n",
      "\n",
      "deconv_thresh = 1.75\n",
      "wiener_thresh = 2.5\n",
      "cb_thresh = .5\n",
      "bayes_thresh = 1.0\n",
      "\n",
      "all_wieners = np.zeros((1,mat_data['traces'].shape[-1]))\n",
      "\n",
      "std_mult = 1.5\n",
      "\n",
      "for (ind,i) in enumerate([1]):\n",
      "    print i\n",
      "    offset = 0\n",
      "    deconv = stfio.detect_events(mat_data['traces'][i,],template,.05,mode=\"deconvolution\")\n",
      "    crit = stfio.detect_events(np.concatenate((mat_data['traces'][i,],np.zeros(template.shape))),template,.05,mode=\"criterion\")\n",
      "    event_times_deconv = stfio.peak_detection(deconv,deconv_thresh*np.std(deconv),20)\n",
      "#     event_times_deconv = event_times[7,0][6]\n",
      "    event_times_crit = stfio.peak_detection(crit,cb_thresh*np.std(crit),20)\n",
      "    \n",
      "    signal = mat_data['traces'][i,]\n",
      "    S = fft(signal,n=nfft)\n",
      "    \n",
      "#     Sss = pymutt.mtft(signal,\n",
      "#                 dt = 1./20000.,\n",
      "#                 npi = 3.0,\n",
      "#                 nwin = 5,\n",
      "#                 paddedlen = nfft,\n",
      "#                 )\n",
      "#     Sss = np.concatenate((Sss['power'],Sss['power'][-1:0:-1]))\n",
      "    \n",
      "    f_tsa_mt,Sss_tsa_mt,nu = tsa.multi_taper_psd(signal,Fs=20000.,NFFT=nfft,adaptive=True)\n",
      "    \n",
      "    \n",
      "    Sss_tsa_mt = np.concatenate((Sss_tsa_mt,Sss_tsa_mt[-1:0:-1]))\n",
      "    \n",
      "    \n",
      "#     if i == 1:\n",
      "#         print np.argwhere(Sss_tsa_mt < noise_PSD_white)\n",
      "#         print Sss_tsa_mt[np.argwhere(Sss_tsa_mt < noise_PSD_white)].shape\n",
      "#         Sss_tsa_mt[np.argwhere(Sss_tsa_mt < noise_PSD_white)] = noise_PSD_white\n",
      "#         print np.argwhere(Sss_tsa_mt < noise_PSD_white)\n",
      "#         ss_nn_diff = Sss_tsa_mt - noise_PSD_white\n",
      "#     else:\n",
      "    neg_inds = np.argwhere(np.less_equal(Sss_tsa_mt,noise_PSD)).squeeze()\n",
      "    print neg_inds.shape\n",
      "    Sss_tsa_mt[neg_inds[0]:] = noise_PSD[neg_inds[0]:]\n",
      "    ss_nn_diff = Sss_tsa_mt - noise_PSD\n",
      "\n",
      "    ss_nn_diff[neg_inds[0]:neg_inds[-1]] = 0.0\n",
      "    \n",
      "    wiener_out = np.real(ifft(np.divide(np.divide(S*(ss_nn_diff),Sss_tsa_mt),H)))[:mat_data['traces'][i,].size]\n",
      "    event_times_wien = stfio.peak_detection(wiener_out,wiener_thresh*np.std(wiener_out),20)\n",
      "    #wiener_times = stfio.peak_detection(all_wieners[i,],0.0000000005,1)\n",
      "    \n",
      "#     cb_center = 9.0;\n",
      "#     wiener_center = 17.0;\n",
      "#     bayes_center = -4.0;\n",
      "#     deconv_center = 25.0;\n",
      "\n",
      "\n",
      "    cb_center = 26.0;\n",
      "    wiener_center = 12.0;\n",
      "    bayes_center = -4.0;\n",
      "#     deconv_center = 26.0;\n",
      "    \n",
      "    \n",
      "    cb = plt.fill_between(np.arange(0,crit.size),5*crit/np.amax(crit)-offset + cb_center,-offset + cb_center, facecolor = 'green',label='CB',edgecolor='green')\n",
      "#     wien = plt.fill_between(np.arange(0,wiener_out.size),5*wiener_out/np.amax(wiener_out)-offset + wiener_center,wiener_center - offset, facecolor = 'red',edgecolor='red',label='Wiener Deconv')\n",
      "    dec = plt.fill_between(np.arange(0,deconv.size),5*deconv/np.amax(deconv)-offset + deconv_center,deconv_center - offset, facecolor = 'm',edgecolor='m',label='Lowpass Deconv .2 kHz')\n",
      "    bayes = plt.fill_between(np.arange(0,posterior_ar2[i,10:].size),10*posterior_ar2[i,10:]/np.amax(posterior_ar2[i,10:])-offset + bayes_center,bayes_center - offset, facecolor = 'blue',edgecolor='blue',label='Bayes Posterior')\n",
      "    obs = plt.plot(mat_data['traces'][i,]-20-offset,c='black',label='Observation')\n",
      "#     true = plt.scatter(mat_data['true_event_times'][0][i][0],-10*np.ones(mat_data['true_event_times'][0][i][0].shape)-offset + 2,c = 'black',s=s,edgecolor='',label = 'True Times')\n",
      "\n",
      "#     print mat_data['true_event_times'][0][i][0]\n",
      "    \n",
      "#     cb = plt.plot(np.arange(0,crit.size),np.ones(crit.shape)*5*cb_thresh*np.std(crit)/np.amax(crit)-offset + cb_center,label='CB',c='g')\n",
      "#     wien = plt.plot(np.arange(0,wiener_out.size),np.ones(wiener_out.shape)*5*wiener_thresh*np.std(wiener_out)/np.amax(wiener_out)-offset + wiener_center,label='Wiener Deconv',c='r')\n",
      "#     dec = plt.plot(np.arange(0,deconv.size),np.ones(deconv.shape)*5*deconv_thresh*np.std(deconv)/np.amax(deconv)-offset + deconv_center,label='Lowpass Deconv .2 kHz',c='m')\n",
      "#     bayes = plt.plot(np.arange(0,posterior_ar2[i,].size),np.ones(posterior_ar2[i,].shape)*10*bayes_thresh*np.std(posterior_ar2[i,])/np.amax(posterior_ar2[i,])-offset + bayes_center,c='blue',label='Bayes Posterior')\n",
      "\n",
      "#     clean_post = posterior_ar2[i,]\n",
      "#     clean_post[clean_post < .0001] = 0.0\n",
      "#     clean_post[clean_post > 0.0] = s\n",
      "    scatter_offset = 8\n",
      "    clean_post = stfio.peak_detection(posterior_ar2[i,],bayes_thresh*np.std(posterior_ar2[i,]),20)\n",
      "    print clean_post\n",
      "    cb = plt.scatter(event_times_crit,cb_center*np.ones(event_times_crit.shape)-offset + scatter_offset,c = 'green',s=s,edgecolor='',label='CB')\n",
      "    dec = plt.scatter(event_times_deconv,deconv_center*np.ones(event_times_deconv.shape)-offset + scatter_offset,c = 'magenta',s=s,edgecolor='',label='Deconv')\n",
      "    ours = plt.scatter(clean_post,bayes_center*np.ones(clean_post.shape)-offset + scatter_offset + 4,c = 'blue',s=s,edgecolor='',label='Bayesian')\n",
      "#     ours = plt.scatter(range(0,clean_post.shape[-1]),bayes_center*np.ones(clean_post.shape)-offset,c = 'blue',edgecolor='',label='Bayesian Posterior',s=clean_post)\n",
      "#     true = plt.scatter(mat_data['true_event_times'][0][i][0],-10*np.ones(mat_data['true_event_times'][0][i][0].shape)-offset,c = 'black',s=s,edgecolor='',label = 'True Times')\n",
      "#     obs = plt.plot(mat_data['traces'][i,]-20-offset,c='black',label='Observation')\n",
      "#     wien =  plt.scatter(event_times_wien,wiener_center*np.ones(event_times_wien.shape)-offset + scatter_offset,c = 'red',s=s,edgecolor='',label='Deconv')\n",
      "    \n",
      "# plt.xlim((10000,18000))\n",
      "           \n",
      "           \n",
      "           \n",
      "           \n",
      "           \n",
      "\n",
      "# plt.legend()\n",
      "# plt.legend((cb, wien, dec, bayes, true, obs),('CB','Wiener','Lowpass Deconv (.2kHz)','Bayesian Posterior','True Times','Obs'),loc='best',bbox_to_anchor=(1.12, 1.13),scatterpoints=1)\n",
      "plt.axis('off')\n",
      "# plt.savefig('example-harder.pdf',format='pdf')"
     ],
     "language": "python",
     "metadata": {},
     "outputs": [
      {
       "output_type": "stream",
       "stream": "stdout",
       "text": [
        "1\n",
        "(5650,)"
       ]
      },
      {
       "output_type": "stream",
       "stream": "stdout",
       "text": [
        "\n",
        "[   0  233  256  478  603  820  855  973 1249 1275 1906 2082 2341 2495 2824\n",
        " 2974 3303 3524 3924 4094 4107 4147 4365 4570 4782 4944 5087 5213 5254 5371\n",
        " 5960]\n"
       ]
      },
      {
       "metadata": {},
       "output_type": "pyout",
       "prompt_number": 34,
       "text": [
        "(-1000.0, 7000.0, -40.0, 40.0)"
       ]
      }
     ],
     "prompt_number": 34
    },
    {
     "cell_type": "code",
     "collapsed": false,
     "input": [
      "threshold[7]"
     ],
     "language": "python",
     "metadata": {},
     "outputs": [
      {
       "metadata": {},
       "output_type": "pyout",
       "prompt_number": 94,
       "text": [
        "3.0"
       ]
      }
     ],
     "prompt_number": 94
    },
    {
     "cell_type": "code",
     "collapsed": false,
     "input": [],
     "language": "python",
     "metadata": {},
     "outputs": []
    }
   ],
   "metadata": {}
  }
 ]
}